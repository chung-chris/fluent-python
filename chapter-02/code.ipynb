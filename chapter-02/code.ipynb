{
 "cells": [
  {
   "cell_type": "markdown",
   "metadata": {},
   "source": [
    "### List Comprehensions"
   ]
  },
  {
   "cell_type": "code",
   "execution_count": 1,
   "metadata": {},
   "outputs": [
    {
     "data": {
      "text/plain": [
       "67"
      ]
     },
     "execution_count": 1,
     "metadata": {},
     "output_type": "execute_result"
    }
   ],
   "source": [
    "x = \"ABC\"\n",
    "codes = [last := ord(c) for c in x]\n",
    "last"
   ]
  },
  {
   "cell_type": "markdown",
   "metadata": {},
   "source": [
    "c is not accessible outside the list comprehension\n",
    "\n",
    "`print(c)  # NameError: name 'c' is not defined\"`\n",
    "\n",
    "The walrus operator := is used to assign values to variables as part of an expression.\n",
    "\n",
    "It is also known as the assignment expression.\n",
    "\n",
    "It is useful when you want to assign a value to a variable and use it in the same expression."
   ]
  },
  {
   "cell_type": "code",
   "execution_count": 4,
   "metadata": {},
   "outputs": [
    {
     "name": "stdout",
     "output_type": "stream",
     "text": [
      "listcomp        : 0.004 0.003 0.004 0.003 0.004\n",
      "listcomp + func : 0.003 0.003 0.003 0.003 0.003\n",
      "filter + lambda : 0.005 0.004 0.004 0.004 0.004\n",
      "filter + func   : 0.004 0.004 0.004 0.004 0.004\n"
     ]
    }
   ],
   "source": [
    "import timeit\n",
    "\n",
    "TIMES = 10000\n",
    "\n",
    "SETUP = \"\"\"\n",
    "symbols = '$¢£¥€¤'\n",
    "def non_ascii(c):\n",
    "    return c > 127\n",
    "\"\"\"\n",
    "\n",
    "def clock(label, cmd):\n",
    "    res = timeit.repeat(cmd, setup=SETUP, number=TIMES)\n",
    "    print(label, *(f'{x:.3f}' for x in res))\n",
    "\n",
    "clock('listcomp        :', '[ord(s) for s in symbols if ord(s) > 127]')\n",
    "clock('listcomp + func :', '[ord(s) for s in symbols if non_ascii(ord(s))]')\n",
    "clock('filter + lambda :', 'list(filter(lambda c: c > 127, map(ord, symbols)))')\n",
    "clock('filter + func   :', 'list(filter(non_ascii, map(ord, symbols)))')"
   ]
  },
  {
   "cell_type": "code",
   "execution_count": null,
   "metadata": {},
   "outputs": [],
   "source": []
  }
 ],
 "metadata": {
  "kernelspec": {
   "display_name": "fluentpython",
   "language": "python",
   "name": "python3"
  },
  "language_info": {
   "codemirror_mode": {
    "name": "ipython",
    "version": 3
   },
   "file_extension": ".py",
   "mimetype": "text/x-python",
   "name": "python",
   "nbconvert_exporter": "python",
   "pygments_lexer": "ipython3",
   "version": "3.12.7"
  }
 },
 "nbformat": 4,
 "nbformat_minor": 2
}
